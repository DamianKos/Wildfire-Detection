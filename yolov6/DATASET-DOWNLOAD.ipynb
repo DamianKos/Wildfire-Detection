{
 "cells": [
  {
   "cell_type": "code",
   "execution_count": 1,
   "metadata": {},
   "outputs": [
    {
     "name": "stdout",
     "output_type": "stream",
     "text": [
      "Collecting roboflow\n",
      "  Downloading roboflow-1.1.21-py3-none-any.whl.metadata (9.3 kB)\n",
      "Collecting certifi==2023.7.22 (from roboflow)\n",
      "  Using cached certifi-2023.7.22-py3-none-any.whl.metadata (2.2 kB)\n",
      "Collecting chardet==4.0.0 (from roboflow)\n",
      "  Downloading chardet-4.0.0-py2.py3-none-any.whl.metadata (3.5 kB)\n",
      "Collecting cycler==0.10.0 (from roboflow)\n",
      "  Using cached cycler-0.10.0-py2.py3-none-any.whl (6.5 kB)\n",
      "Collecting idna==2.10 (from roboflow)\n",
      "  Downloading idna-2.10-py2.py3-none-any.whl.metadata (9.1 kB)\n",
      "Collecting kiwisolver>=1.3.1 (from roboflow)\n",
      "  Using cached kiwisolver-1.4.5-cp38-cp38-win_amd64.whl.metadata (6.5 kB)\n",
      "Collecting matplotlib (from roboflow)\n",
      "  Using cached matplotlib-3.7.5-cp38-cp38-win_amd64.whl.metadata (5.8 kB)\n",
      "Requirement already satisfied: numpy>=1.18.5 in c:\\users\\damia\\anaconda3\\envs\\yolov6\\lib\\site-packages (from roboflow) (1.24.3)\n",
      "Collecting opencv-python-headless==4.8.0.74 (from roboflow)\n",
      "  Using cached opencv_python_headless-4.8.0.74-cp37-abi3-win_amd64.whl.metadata (19 kB)\n",
      "Requirement already satisfied: Pillow>=7.1.2 in c:\\users\\damia\\anaconda3\\envs\\yolov6\\lib\\site-packages (from roboflow) (10.2.0)\n",
      "Requirement already satisfied: python-dateutil in c:\\users\\damia\\anaconda3\\envs\\yolov6\\lib\\site-packages (from roboflow) (2.8.2)\n",
      "Collecting python-dotenv (from roboflow)\n",
      "  Using cached python_dotenv-1.0.1-py3-none-any.whl.metadata (23 kB)\n",
      "Requirement already satisfied: requests in c:\\users\\damia\\anaconda3\\envs\\yolov6\\lib\\site-packages (from roboflow) (2.31.0)\n",
      "Requirement already satisfied: six in c:\\users\\damia\\anaconda3\\envs\\yolov6\\lib\\site-packages (from roboflow) (1.16.0)\n",
      "Collecting supervision (from roboflow)\n",
      "  Using cached supervision-0.18.0-py3-none-any.whl.metadata (12 kB)\n",
      "Requirement already satisfied: urllib3>=1.26.6 in c:\\users\\damia\\anaconda3\\envs\\yolov6\\lib\\site-packages (from roboflow) (2.1.0)\n",
      "Collecting tqdm>=4.41.0 (from roboflow)\n",
      "  Using cached tqdm-4.66.2-py3-none-any.whl.metadata (57 kB)\n",
      "Requirement already satisfied: PyYAML>=5.3.1 in c:\\users\\damia\\anaconda3\\envs\\yolov6\\lib\\site-packages (from roboflow) (6.0.1)\n",
      "Collecting requests-toolbelt (from roboflow)\n",
      "  Downloading requests_toolbelt-1.0.0-py2.py3-none-any.whl.metadata (14 kB)\n",
      "Collecting python-magic (from roboflow)\n",
      "  Downloading python_magic-0.4.27-py2.py3-none-any.whl.metadata (5.8 kB)\n",
      "Requirement already satisfied: colorama in c:\\users\\damia\\anaconda3\\envs\\yolov6\\lib\\site-packages (from tqdm>=4.41.0->roboflow) (0.4.6)\n",
      "Collecting contourpy>=1.0.1 (from matplotlib->roboflow)\n",
      "  Using cached contourpy-1.1.1-cp38-cp38-win_amd64.whl.metadata (5.9 kB)\n",
      "Collecting fonttools>=4.22.0 (from matplotlib->roboflow)\n",
      "  Using cached fonttools-4.49.0-cp38-cp38-win_amd64.whl.metadata (162 kB)\n",
      "Requirement already satisfied: packaging>=20.0 in c:\\users\\damia\\anaconda3\\envs\\yolov6\\lib\\site-packages (from matplotlib->roboflow) (23.2)\n",
      "Collecting pyparsing>=2.3.1 (from matplotlib->roboflow)\n",
      "  Using cached pyparsing-3.1.1-py3-none-any.whl.metadata (5.1 kB)\n",
      "Collecting importlib-resources>=3.2.0 (from matplotlib->roboflow)\n",
      "  Downloading importlib_resources-6.1.2-py3-none-any.whl.metadata (3.9 kB)\n",
      "Requirement already satisfied: charset-normalizer<4,>=2 in c:\\users\\damia\\anaconda3\\envs\\yolov6\\lib\\site-packages (from requests->roboflow) (2.0.4)\n",
      "Collecting defusedxml<0.8.0,>=0.7.1 (from supervision->roboflow)\n",
      "  Downloading defusedxml-0.7.1-py2.py3-none-any.whl.metadata (32 kB)\n",
      "Collecting scipy==1.10.0 (from supervision->roboflow)\n",
      "  Downloading scipy-1.10.0-cp38-cp38-win_amd64.whl.metadata (58 kB)\n",
      "     ---------------------------------------- 0.0/58.9 kB ? eta -:--:--\n",
      "     ---------------------------------------- 58.9/58.9 kB 3.2 MB/s eta 0:00:00\n",
      "Requirement already satisfied: zipp>=3.1.0 in c:\\users\\damia\\anaconda3\\envs\\yolov6\\lib\\site-packages (from importlib-resources>=3.2.0->matplotlib->roboflow) (3.17.0)\n",
      "Downloading roboflow-1.1.21-py3-none-any.whl (70 kB)\n",
      "   ---------------------------------------- 0.0/70.2 kB ? eta -:--:--\n",
      "   ---------------------------------------- 70.2/70.2 kB 3.8 MB/s eta 0:00:00\n",
      "Using cached certifi-2023.7.22-py3-none-any.whl (158 kB)\n",
      "Using cached chardet-4.0.0-py2.py3-none-any.whl (178 kB)\n",
      "Using cached idna-2.10-py2.py3-none-any.whl (58 kB)\n",
      "Using cached opencv_python_headless-4.8.0.74-cp37-abi3-win_amd64.whl (38.0 MB)\n",
      "Using cached kiwisolver-1.4.5-cp38-cp38-win_amd64.whl (56 kB)\n",
      "Using cached tqdm-4.66.2-py3-none-any.whl (78 kB)\n",
      "Using cached matplotlib-3.7.5-cp38-cp38-win_amd64.whl (7.5 MB)\n",
      "Using cached python_dotenv-1.0.1-py3-none-any.whl (19 kB)\n",
      "Using cached python_magic-0.4.27-py2.py3-none-any.whl (13 kB)\n",
      "Using cached requests_toolbelt-1.0.0-py2.py3-none-any.whl (54 kB)\n",
      "Using cached supervision-0.18.0-py3-none-any.whl (86 kB)\n",
      "Using cached scipy-1.10.0-cp38-cp38-win_amd64.whl (42.2 MB)\n",
      "Using cached contourpy-1.1.1-cp38-cp38-win_amd64.whl (477 kB)\n",
      "Downloading defusedxml-0.7.1-py2.py3-none-any.whl (25 kB)\n",
      "Using cached fonttools-4.49.0-cp38-cp38-win_amd64.whl (1.5 MB)\n",
      "Downloading importlib_resources-6.1.2-py3-none-any.whl (34 kB)\n",
      "Using cached pyparsing-3.1.1-py3-none-any.whl (103 kB)\n",
      "Installing collected packages: tqdm, scipy, python-magic, python-dotenv, pyparsing, opencv-python-headless, kiwisolver, importlib-resources, idna, fonttools, defusedxml, cycler, contourpy, chardet, certifi, matplotlib, supervision, requests-toolbelt, roboflow\n",
      "  Attempting uninstall: idna\n",
      "    Found existing installation: idna 3.4\n",
      "    Uninstalling idna-3.4:\n",
      "      Successfully uninstalled idna-3.4\n",
      "  Attempting uninstall: certifi\n",
      "    Found existing installation: certifi 2024.2.2\n",
      "    Uninstalling certifi-2024.2.2:\n",
      "      Successfully uninstalled certifi-2024.2.2\n",
      "Successfully installed certifi-2023.7.22 chardet-4.0.0 contourpy-1.1.1 cycler-0.10.0 defusedxml-0.7.1 fonttools-4.49.0 idna-2.10 importlib-resources-6.1.2 kiwisolver-1.4.5 matplotlib-3.7.5 opencv-python-headless-4.8.0.74 pyparsing-3.1.1 python-dotenv-1.0.1 python-magic-0.4.27 requests-toolbelt-1.0.0 roboflow-1.1.21 scipy-1.10.0 supervision-0.18.0 tqdm-4.66.2\n",
      "loading Roboflow workspace...\n",
      "loading Roboflow project...\n"
     ]
    },
    {
     "name": "stderr",
     "output_type": "stream",
     "text": [
      "Downloading Dataset Version Zip in Wildfire-V2-5 to mt-yolov6:: 100%|██████████| 8746645/8746645 [36:18<00:00, 4015.02it/s]  "
     ]
    },
    {
     "name": "stdout",
     "output_type": "stream",
     "text": [
      "\n"
     ]
    },
    {
     "name": "stderr",
     "output_type": "stream",
     "text": [
      "\n",
      "Extracting Dataset Version Zip to Wildfire-V2-5 in mt-yolov6:: 100%|██████████| 268953/268953 [11:17<00:00, 396.99it/s] \n"
     ]
    }
   ],
   "source": [
    "!pip install roboflow\n",
    "\n",
    "from roboflow import Roboflow\n",
    "rf = Roboflow(api_key=\"0Xne8JZJf7fWKQ7KJR5x\")\n",
    "project = rf.workspace(\"atlantic-technological-university\").project(\"wildfire-v2\")\n",
    "dataset = project.version(5).download(\"mt-yolov6\")"
   ]
  }
 ],
 "metadata": {
  "kernelspec": {
   "display_name": "yolov5",
   "language": "python",
   "name": "python3"
  },
  "language_info": {
   "codemirror_mode": {
    "name": "ipython",
    "version": 3
   },
   "file_extension": ".py",
   "mimetype": "text/x-python",
   "name": "python",
   "nbconvert_exporter": "python",
   "pygments_lexer": "ipython3",
   "version": "3.8.18"
  }
 },
 "nbformat": 4,
 "nbformat_minor": 2
}
